{
 "cells": [
  {
   "cell_type": "code",
   "execution_count": 0,
   "metadata": {
    "application/vnd.databricks.v1+cell": {
     "cellMetadata": {
      "byteLimit": 2048000,
      "rowLimit": 10000
     },
     "inputWidgets": {},
     "nuid": "2d2243ca-3582-4f31-842d-799c658469c8",
     "showTitle": false,
     "title": ""
    }
   },
   "outputs": [],
   "source": [
    "#!pip3 install unidecode"
   ]
  },
  {
   "cell_type": "code",
   "execution_count": 0,
   "metadata": {
    "application/vnd.databricks.v1+cell": {
     "cellMetadata": {
      "byteLimit": 2048000,
      "rowLimit": 10000
     },
     "inputWidgets": {},
     "nuid": "cea2fa51-7507-4d8f-895e-4039c8c33ef8",
     "showTitle": false,
     "title": ""
    }
   },
   "outputs": [],
   "source": [
    "from pyspark.sql.functions import *\n",
    "from pyspark.sql.types import *\n",
    "from unidecode import unidecode"
   ]
  },
  {
   "cell_type": "code",
   "execution_count": 0,
   "metadata": {
    "application/vnd.databricks.v1+cell": {
     "cellMetadata": {
      "byteLimit": 2048000,
      "rowLimit": 10000
     },
     "inputWidgets": {},
     "nuid": "0c555d7d-973f-491b-8547-e2462ca81a4a",
     "showTitle": false,
     "title": ""
    }
   },
   "outputs": [],
   "source": [
    "# Define uma variável chamada 'path' que contém o caminho para uma pasta específica vinda da rawzone\n",
    "# A pasta é localizada dentro de 'PASTA_INTERNA_DA_EXTRACAO' e se chama 'Central de Projetos'\n",
    "path = 'PASTA_INTERNA_DA_EXTRACAO/Central de Projetos'"
   ]
  },
  {
   "cell_type": "code",
   "execution_count": 0,
   "metadata": {
    "application/vnd.databricks.v1+cell": {
     "cellMetadata": {
      "byteLimit": 2048000,
      "rowLimit": 10000
     },
     "inputWidgets": {},
     "nuid": "f4fe27f1-d2cd-4e55-8428-7528fe04726e",
     "showTitle": false,
     "title": ""
    }
   },
   "outputs": [],
   "source": [
    "# %run é uma \"magic command\" que executa um script no ambiente atual\n",
    "# Chamada do caderno \"handler\" e suas funções\n",
    "%run ../../handler"
   ]
  },
  {
   "cell_type": "code",
   "execution_count": 0,
   "metadata": {
    "application/vnd.databricks.v1+cell": {
     "cellMetadata": {
      "byteLimit": 2048000,
      "rowLimit": 10000
     },
     "inputWidgets": {},
     "nuid": "d3aa2015-d979-437d-a5c1-4964b9a98284",
     "showTitle": false,
     "title": ""
    }
   },
   "outputs": [],
   "source": [
    "# %run é uma \"magic command\" que executa um script no ambiente atual\n",
    "# Chamada do caderno sharepointAPI_CP\n",
    "%run ../../sharepointAPI_CP"
   ]
  },
  {
   "cell_type": "code",
   "execution_count": 0,
   "metadata": {
    "application/vnd.databricks.v1+cell": {
     "cellMetadata": {
      "byteLimit": 2048000,
      "rowLimit": 10000
     },
     "inputWidgets": {},
     "nuid": "13d2b6d0-4c5b-4ef6-9fba-b603caadac67",
     "showTitle": false,
     "title": ""
    }
   },
   "outputs": [],
   "source": [
    "# Conexão e leitura do arquivo \"Ações\" dentro de: yourdatalake\\rawzone\\DIRETORIO_DA_EXTRACAO\\EXTRACAO\\PASTA_INTERNA_DA_EXTRACAO/Central de Projetos\n",
    "acoes = Handler('Ações', path)\n",
    "acoes.read_from('rawzone')\n",
    "acoes_df = acoes.df"
   ]
  },
  {
   "cell_type": "code",
   "execution_count": 0,
   "metadata": {
    "application/vnd.databricks.v1+cell": {
     "cellMetadata": {
      "byteLimit": 2048000,
      "rowLimit": 10000
     },
     "inputWidgets": {},
     "nuid": "4a384315-4b95-48c2-9fdd-fb546fd33804",
     "showTitle": false,
     "title": ""
    }
   },
   "outputs": [],
   "source": [
    "# Descarte de colunas que não serão utilizadas\n",
    "acoes_df = acoes_df.drop(\\\n",
    "'__metadata',\\\n",
    "'ID',\\\n",
    "'ContentTypeId',\\\n",
    "'OData__x005f_HasCopyDestinations',\\\n",
    "'OData__x005f_CopySource',\\\n",
    "'owshiddenversion',\\\n",
    "'WorkflowVersion',\\\n",
    "'OData__x005f_UIVersion',\\\n",
    "'OData__x005f_UIVersionString',\\\n",
    "'Attachments',\\\n",
    "'OData__x005f_ModerationStatus',\\\n",
    "'OData__x005f_ModerationComments',\\\n",
    "'InstanceID',\\\n",
    "'Order',\\\n",
    "'GUID',\\\n",
    "'WorkflowInstanceID',\\\n",
    "'FileRef',\\\n",
    "'FileDirRef',\\\n",
    "'Last_x005f_x0020_x005f_Modified',\\\n",
    "'Created_x005f_x0020_x005f_Date',\\\n",
    "'FSObjType',\\\n",
    "'SortBehavior',\\\n",
    "'UniqueId',\\\n",
    "'SyncClientId',\\\n",
    "'ProgId',\\\n",
    "'ScopeId',\\\n",
    "'File_x005f_x0020_x005f_Type',\\\n",
    "'MetaInfo',\\\n",
    "'OData__x005f_Level',\\\n",
    "'OData__x005f_IsCurrentVersion',\\\n",
    "'ItemChildCount',\\\n",
    "'FolderChildCount',\\\n",
    "'Restricted',\\\n",
    "'OriginatorId',\\\n",
    "'NoExecute',\\\n",
    "'ContentVersion',\\\n",
    "'OData__x005f_ComplianceFlags',\\\n",
    "'OData__x005f_ComplianceTag',\\\n",
    "'OData__x005f_ComplianceTagWrittenTime',\\\n",
    "'OData__x005f_ComplianceTagUserId',\\\n",
    "'AccessPolicy',\\\n",
    "'OData__x005f_VirusStatus',\\\n",
    "'OData__x005f_VirusVendorID',\\\n",
    "'OData__x005f_VirusInfo',\\\n",
    "'AppAuthor',\\\n",
    "'AppEditor',\\\n",
    "'SMTotalSize',\\\n",
    "'SMLastModifiedDate',\\\n",
    "'SMTotalFileStreamSize',\\\n",
    "'SMTotalFileCount',\\\n",
    "'ComplianceAssetId',\\\n",
    "'OData__x005f_CommentFlags',\\\n",
    "'OData__x005f_CommentCount',\\\n",
    "'FileLeafRef',\\\n",
    "'Created',\\\n",
    "'Author',\\\n",
    "'TipoAssociacao'\n",
    ")"
   ]
  },
  {
   "cell_type": "code",
   "execution_count": 0,
   "metadata": {
    "application/vnd.databricks.v1+cell": {
     "cellMetadata": {
      "byteLimit": 2048000,
      "rowLimit": 10000
     },
     "inputWidgets": {},
     "nuid": "19e43fef-2db5-42bb-810f-b02e3a185406",
     "showTitle": false,
     "title": ""
    }
   },
   "outputs": [],
   "source": [
    "# Renomeando as colunas para novos nomes que serão utilizados em seu projeto\n",
    "nome_antigo = ['Projeto',\\\n",
    "               'Title',\\\n",
    "               'Risco',\\\n",
    "               'Problema',\\\n",
    "               'Modified'\n",
    "            ]\n",
    "nome_novo = ['NomedoProjeto',\\\n",
    "             'NomedaAcao',\\\n",
    "             'NomedoRisco',\\\n",
    "             'NomedoProblema',\\\n",
    "             'Modificado'\n",
    "            ]\n",
    "\n",
    "acoes_df = rename_columns(acoes_df, nome_antigo, nome_novo)"
   ]
  },
  {
   "cell_type": "code",
   "execution_count": 0,
   "metadata": {
    "application/vnd.databricks.v1+cell": {
     "cellMetadata": {
      "byteLimit": 2048000,
      "rowLimit": 10000
     },
     "inputWidgets": {},
     "nuid": "66906414-ac9d-4106-8c01-860245d34333",
     "showTitle": false,
     "title": ""
    }
   },
   "outputs": [],
   "source": [
    "# Cast date de colunas de data e timestamp\n",
    "acoes_df = cast_to_date(acoes_df, 'Modificado', 'dd/MM/yyyy HH:mm')\n",
    "acoes_df = cast_to_date(acoes_df, 'DataLimite', 'dd/MM/yyyy')"
   ]
  },
  {
   "cell_type": "code",
   "execution_count": 0,
   "metadata": {
    "application/vnd.databricks.v1+cell": {
     "cellMetadata": {
      "byteLimit": 2048000,
      "rowLimit": 10000
     },
     "inputWidgets": {},
     "nuid": "30c572ba-139c-42ca-b02c-b9f944e183e0",
     "showTitle": false,
     "title": ""
    }
   },
   "outputs": [],
   "source": [
    "# Obtem os nomes das colunas do DataFrame e renomeia removendo os caracteres especiais com unidecode\n",
    "column_names = acoes_df.columns\n",
    "\n",
    "for name in column_names:\n",
    "  acoes_df = acoes_df.withColumnRenamed(name, unidecode(name))"
   ]
  },
  {
   "cell_type": "code",
   "execution_count": 0,
   "metadata": {
    "application/vnd.databricks.v1+cell": {
     "cellMetadata": {
      "byteLimit": 2048000,
      "rowLimit": 10000
     },
     "inputWidgets": {},
     "nuid": "03cd2062-9f66-46c4-bb43-062a9cce2522",
     "showTitle": false,
     "title": ""
    }
   },
   "outputs": [],
   "source": [
    "# Escreve a extração em um novo arquivo \"Ações\" na silverzone no yourdatalake\\silverzone\\Central_Projetos\n",
    "acoes = Handler('Ações', path)\n",
    "acoes.df = acoes_df\n",
    "acoes.write_on('silverzone')"
   ]
  }
 ],
 "metadata": {
  "application/vnd.databricks.v1+notebook": {
   "dashboards": [],
   "environmentMetadata": null,
   "language": "python",
   "notebookMetadata": {
    "pythonIndentUnit": 2
   },
   "notebookName": "silverzone_CP_acoes",
   "widgets": {}
  },
  "language_info": {
   "name": "python"
  }
 },
 "nbformat": 4,
 "nbformat_minor": 0
}
