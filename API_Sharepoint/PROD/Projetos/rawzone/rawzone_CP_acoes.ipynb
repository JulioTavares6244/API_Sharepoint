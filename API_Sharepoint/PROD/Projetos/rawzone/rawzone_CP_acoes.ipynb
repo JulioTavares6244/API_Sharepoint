{
 "cells": [
  {
   "cell_type": "code",
   "execution_count": null,
   "metadata": {
    "application/vnd.databricks.v1+cell": {
     "cellMetadata": {
      "byteLimit": 2048000,
      "rowLimit": 10000
     },
     "inputWidgets": {},
     "nuid": "cea2fa51-7507-4d8f-895e-4039c8c33ef8",
     "showTitle": false,
     "title": ""
    }
   },
   "outputs": [],
   "source": [
    "from pyspark.sql.functions import *\n",
    "from pyspark.sql.types import *"
   ]
  },
  {
   "cell_type": "code",
   "execution_count": 0,
   "metadata": {
    "application/vnd.databricks.v1+cell": {
     "cellMetadata": {
      "byteLimit": 2048000,
      "rowLimit": 10000
     },
     "inputWidgets": {},
     "nuid": "0c555d7d-973f-491b-8547-e2462ca81a4a",
     "showTitle": false,
     "title": ""
    }
   },
   "outputs": [],
   "source": [
    "# Define uma variável chamada 'path' que contém o caminho para uma pasta específica vinda da rawzone\n",
    "# A pasta é localizada dentro de 'PASTA_INTERNA_DA_EXTRACAO' e se chama 'Central de Projetos'\n",
    "path = 'PASTA_INTERNA_DA_EXTRACAO/Central de Projetos'\n"
   ]
  },
  {
   "cell_type": "code",
   "execution_count": 0,
   "metadata": {
    "application/vnd.databricks.v1+cell": {
     "cellMetadata": {
      "byteLimit": 2048000,
      "rowLimit": 10000
     },
     "inputWidgets": {},
     "nuid": "f4fe27f1-d2cd-4e55-8428-7528fe04726e",
     "showTitle": false,
     "title": ""
    }
   },
   "outputs": [],
   "source": [
    "# %run é uma \"magic command\" que executa um script no ambiente atual\n",
    "# Chamada do caderno \"handler\" e suas funções\n",
    "%run ../../handler"
   ]
  },
  {
   "cell_type": "code",
   "execution_count": 0,
   "metadata": {
    "application/vnd.databricks.v1+cell": {
     "cellMetadata": {
      "byteLimit": 2048000,
      "rowLimit": 10000
     },
     "inputWidgets": {},
     "nuid": "d3aa2015-d979-437d-a5c1-4964b9a98284",
     "showTitle": false,
     "title": ""
    }
   },
   "outputs": [],
   "source": [
    "# %run é uma \"magic command\" que executa um script no ambiente atual\n",
    "# Chamada do caderno sharepointAPI_CP\n",
    "%run ../../sharepointAPI_CP"
   ]
  },
  {
   "cell_type": "code",
   "execution_count": 0,
   "metadata": {
    "application/vnd.databricks.v1+cell": {
     "cellMetadata": {
      "byteLimit": 2048000,
      "rowLimit": 10000
     },
     "inputWidgets": {},
     "nuid": "0768db00-12ed-47bd-872c-3ced2b7b686b",
     "showTitle": false,
     "title": ""
    }
   },
   "outputs": [],
   "source": [
    "# Conexão com a API do Sharepoint_CP pegando subpáginas direto da página \"Ações\" dos projetos\n",
    "cp_shareAPI = SharepointAPI_CP()\n",
    "subpages = cp_shareAPI.get_subpages('CentraldeProjetos')"
   ]
  },
  {
   "cell_type": "code",
   "execution_count": 0,
   "metadata": {
    "application/vnd.databricks.v1+cell": {
     "cellMetadata": {
      "byteLimit": 2048000,
      "rowLimit": 10000
     },
     "inputWidgets": {},
     "nuid": "29944ee6-c0b4-4214-ae20-0877ac2f94e6",
     "showTitle": false,
     "title": ""
    }
   },
   "outputs": [],
   "source": [
    "# Conexão e leitura do arquivo \"Projetos\" dentro de: yourdatalake\\rawzone\\DIRETORIO_DA_EXTRACAO\\EXTRACAO\\PASTA_INTERNA_DA_EXTRACAO/Project\n",
    "project = Handler('EXTRACAO', 'PASTA_INTERNA_DA_EXTRACAO/Project')\n",
    "project.read_from('rawzone')\n",
    "project_df = project.df.withColumnRenamed(\"ID_Projeto\", 'IddeProjeto')\n",
    "\n",
    "#display(project_df)"
   ]
  },
  {
   "cell_type": "code",
   "execution_count": 0,
   "metadata": {
    "application/vnd.databricks.v1+cell": {
     "cellMetadata": {
      "byteLimit": 2048000,
      "rowLimit": 10000
     },
     "inputWidgets": {},
     "nuid": "5522981f-13f2-4414-a06e-d8d0d630533d",
     "showTitle": false,
     "title": ""
    }
   },
   "outputs": [],
   "source": [
    "# Obtém dados de ações de uma API, cria um DataFrame e define o esquema para os dados.\n",
    "\n",
    "# Chama o método `get_info_by_list_new` da API `cp_shareAPI` para recuperar informações sobre ações.\n",
    "# Parâmetros:\n",
    "# - 'Ações': especifica que o tipo de dado a ser retornado é relacionado a ações.\n",
    "# - subpages: uma variável contendo uma lista ou subpáginas adicionais para filtrar a busca.\n",
    "# - ProjUID=True: indica que a busca deve incluir um identificador único (UID) do projeto.\n",
    "acoes_data = cp_shareAPI.get_info_by_list_new('Ações', subpages, ProjUID=True)\n",
    "\n",
    "# Cria uma lista de chaves/colunas com base nos dados retornados pela API.\n",
    "# Considera-se que `acoes_data` é uma lista de dicionários, e acessa-se o primeiro item [0] \n",
    "# para obter suas chaves (nomes de colunas).\n",
    "rows = list(acoes_data[0].keys())\n",
    "\n",
    "# Define um esquema para um DataFrame do Spark usando `StructType` e `StructField` com base nas colunas obtidas.\n",
    "# Cada campo é do tipo `StringType`, e o terceiro argumento `True` indica que os campos podem ter valores nulos.\n",
    "schema = StructType([StructField(i, StringType(), True) for i in rows])\n",
    "\n",
    "# Cria um DataFrame usando a API `cp_shareAPI.create_df`.\n",
    "# Parâmetros:\n",
    "# - acoes_data: os dados de ações obtidos da API.\n",
    "# - rows: as colunas extraídas dos dados.\n",
    "# - schema: o esquema definido para os dados, determinando a estrutura e tipos das colunas.\n",
    "acoes_df = cp_shareAPI.create_df(acoes_data, rows, schema)"
   ]
  },
  {
   "cell_type": "code",
   "execution_count": 0,
   "metadata": {
    "application/vnd.databricks.v1+cell": {
     "cellMetadata": {
      "byteLimit": 2048000,
      "rowLimit": 10000
     },
     "inputWidgets": {},
     "nuid": "ff8d0640-8982-421b-82b9-0b11f58b93db",
     "showTitle": false,
     "title": ""
    }
   },
   "outputs": [],
   "source": [
    "# Integra identificadores de projeto ao DataFrame de ações. A função `get_proj_ids` adiciona ou mapeia\n",
    "# os identificadores de projeto (IDs) ao `acoes_df` a partir de outro DataFrame, `project_df`.\n",
    "# Parâmetros:\n",
    "# - acoes_df: o DataFrame de ações criado anteriormente.\n",
    "# - project_df: um DataFrame contendo informações dos projetos, incluindo seus identificadores (IDs).\n",
    "acoes_df = get_proj_ids(acoes_df, project_df)"
   ]
  },
  {
   "cell_type": "code",
   "execution_count": 0,
   "metadata": {
    "application/vnd.databricks.v1+cell": {
     "cellMetadata": {
      "byteLimit": 2048000,
      "rowLimit": 10000
     },
     "inputWidgets": {},
     "nuid": "4811d2b5-bdee-4dfe-a163-f71d96df6bc7",
     "showTitle": false,
     "title": ""
    }
   },
   "outputs": [],
   "source": [
    "# Cria uma nova coluna 'New_IddeProjeto' com base em uma condição\n",
    "acoes_df = acoes_df.withColumn('New_IddeProjeto',\n",
    "when(col('ID_Projeto') == '', col('IddeProjeto')) # Verifica se a coluna 'ID_Projeto' está vazia\n",
    ".otherwise(col('ID_Projeto'))) # Se 'ID_Projeto' não estiver vazia, mantém o valor original\n",
    "\n",
    "# Remove as colunas originais 'ID_Projeto' e 'IddeProjeto'\n",
    "acoes_df = acoes_df.drop(\"ID_Projeto\", \"IddeProjeto\") \\\n",
    ".withColumnRenamed(\"New_IddeProjeto\", 'ID_Projeto') # Renomeia 'New_IddeProjeto' para 'ID_Projeto', substituindo a coluna original"
   ]
  },
  {
   "cell_type": "code",
   "execution_count": 0,
   "metadata": {
    "application/vnd.databricks.v1+cell": {
     "cellMetadata": {
      "byteLimit": 2048000,
      "rowLimit": 10000
     },
     "inputWidgets": {},
     "nuid": "0dff2915-6559-4c16-ad77-da21502b62dc",
     "showTitle": false,
     "title": ""
    }
   },
   "outputs": [],
   "source": [
    "# Faz um distinct count dos registros no DataFrame\n",
    "acoes_df.distinct().count()"
   ]
  },
  {
   "cell_type": "code",
   "execution_count": 0,
   "metadata": {
    "application/vnd.databricks.v1+cell": {
     "cellMetadata": {
      "byteLimit": 2048000,
      "rowLimit": 10000
     },
     "inputWidgets": {},
     "nuid": "030f6761-84d5-4082-b6ca-313f156d657f",
     "showTitle": false,
     "title": ""
    }
   },
   "outputs": [],
   "source": [
    "# Escreve a extração em um arquivo \"Ações\" na rawzone no caminho: yourdatalake\\silverzone\\Central_Projetos\n",
    "v_acoes = Handler('Ações', path)\n",
    "v_acoes.df = acoes_df\n",
    "v_acoes.write_on('rawzone')"
   ]
  }
 ],
 "metadata": {
  "application/vnd.databricks.v1+notebook": {
   "dashboards": [],
   "environmentMetadata": null,
   "language": "python",
   "notebookMetadata": {
    "pythonIndentUnit": 2
   },
   "notebookName": "rawzone_CP_acoes",
   "widgets": {}
  },
  "kernelspec": {
   "display_name": "Python 3",
   "language": "python",
   "name": "python3"
  },
  "language_info": {
   "codemirror_mode": {
    "name": "ipython",
    "version": 3
   },
   "file_extension": ".py",
   "mimetype": "text/x-python",
   "name": "python",
   "nbconvert_exporter": "python",
   "pygments_lexer": "ipython3",
   "version": "3.13.0"
  }
 },
 "nbformat": 4,
 "nbformat_minor": 0
}
