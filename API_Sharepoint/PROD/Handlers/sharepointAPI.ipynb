{
 "cells": [
  {
   "cell_type": "code",
   "execution_count": 0,
   "metadata": {
    "application/vnd.databricks.v1+cell": {
     "cellMetadata": {
      "byteLimit": 2048000,
      "rowLimit": 10000
     },
     "inputWidgets": {},
     "nuid": "0bedb078-01c3-4a04-8bfa-9c7f961350d5",
     "showTitle": false,
     "title": ""
    }
   },
   "outputs": [],
   "source": [
    "import requests\n",
    "import json\n",
    "import sys\n",
    "import time\n",
    "from pyspark.sql import *\n",
    "from pyspark.sql.types import StructType, StructField, StringType, DateType, IntegerType\n",
    "from pyspark.sql.functions import udf, to_timestamp, unix_timestamp"
   ]
  },
  {
   "cell_type": "code",
   "execution_count": 0,
   "metadata": {
    "application/vnd.databricks.v1+cell": {
     "cellMetadata": {
      "byteLimit": 2048000,
      "rowLimit": 10000
     },
     "inputWidgets": {},
     "nuid": "93b415a2-6df9-4060-8414-e0158e873a6b",
     "showTitle": false,
     "title": ""
    }
   },
   "outputs": [],
   "source": [
    "# CONFIGURATION CENTRAL DE PROJETOS MICROSOFT\n",
    "# client_id = '00000000-0000-0000-0000-000000000000'\n",
    "# client_secret = '00000000000000000000000000.0000000000000'\n"
   ]
  },
  {
   "cell_type": "code",
   "execution_count": 0,
   "metadata": {
    "application/vnd.databricks.v1+cell": {
     "cellMetadata": {
      "byteLimit": 2048000,
      "rowLimit": 10000
     },
     "inputWidgets": {},
     "nuid": "2e4a6965-87b3-4feb-9aee-aa30979664b7",
     "showTitle": false,
     "title": ""
    }
   },
   "outputs": [],
   "source": [
    "session = requests.Session()"
   ]
  },
  {
   "cell_type": "code",
   "execution_count": 0,
   "metadata": {
    "application/vnd.databricks.v1+cell": {
     "cellMetadata": {
      "byteLimit": 2048000,
      "rowLimit": 10000
     },
     "inputWidgets": {},
     "nuid": "ca3a2c2d-14d2-46ed-925b-922958d8e305",
     "showTitle": false,
     "title": ""
    }
   },
   "outputs": [],
   "source": [
    "class SharepointAPI():\n",
    "  def __init__(self, client_id='', client_secret='', page=''):\n",
    "  #def __init__(self, page=''):\n",
    "    self.tenant = 'tenant_name'\n",
    "    self.tenant_id = '00000000-0000-0000-0000-000000000000'\n",
    "    self.client_id = client_id + '@' + self.tenant_id\n",
    "    self.client_secret = client_secret\n",
    "    \n",
    "    #print(client_id, client_secret)\n",
    "    self.headers = {\n",
    "      'Content-Type':'application/x-www-form-urlencoded'\n",
    "    }\n",
    "    if client_id != '' and client_secret != '': \n",
    "      self.get_credentials()\n",
    "    self.page = page\n",
    "    self.digest = ''\n",
    "    \n",
    "\n",
    "  def get_credentials(self):\n",
    "    url = \"https://accounts.accesscontrol.windows.net/00000000-0000-0000-0000-000000000000/tokens/OAuth/2\"\n",
    "    data = {\n",
    "      'grant_type':'client_credentials',\n",
    "      'resource': \"00000000-0000-0000-0000-000000000000/\" + self.tenant + \".sharepoint.com@\" + self.tenant_id, \n",
    "      'client_id': self.client_id,\n",
    "      'client_secret': self.client_secret,\n",
    "    }\n",
    "    r = requests.post(url, data=data, headers=self.headers)\n",
    "    if not r.ok:\n",
    "      raise Exception('AuthErrorException', r.text)\n",
    "    json_data = json.loads(r.text)\n",
    "    self.headers ={\n",
    "      'Authorization': 'Bearer ' + json_data['access_token'],\n",
    "      'Accept': 'application/json; odata=verbose',\n",
    "      'Content-Type': 'application/json;odata=verbose'\n",
    "    }\n",
    "    self.header_project = self.headers\n",
    "    \n",
    "  def get_subpages(self, page):\n",
    "    self.page = page\n",
    "    url = f'https://{self.tenant}.sharepoint.com/sites/{self.page}/_api/web/webs/?$select=title,ServerRelativeUrl'\n",
    "    r = requests.get(url, headers=self.headers)\n",
    "#     print(r.text)\n",
    "    return json.loads(r.text)\n",
    "  \n",
    "  def get_info_by_list_new(self, _list, _json, *args, ProjUID=False):\n",
    "    '''\n",
    "    Função busca dados de subpáginas de um tópico específico\n",
    "\n",
    "    Parâmetros:\n",
    "        `page`:\n",
    "            Página da qual serão observadas as subpáginas\n",
    "            Ex.: 'CentraldeProjetos'\n",
    "\n",
    "        `_list`:\n",
    "            Nome do tópico de interesse a ser buscado\n",
    "            Ex.: 'Riscos'\n",
    "\n",
    "        `_json`:\n",
    "            Json contendo o conjunto de subpáginas que serão buscados\n",
    "\n",
    "    Retorno:\n",
    "        Dicionário de dados contendo informações coletadas dos tópicos em questão\n",
    "    '''\n",
    "    \n",
    "    fields, desired_field = args if len(args) == 2 else [],[]\n",
    "    res_dict = []\n",
    "    i = 0\n",
    "    id_pag = 1\n",
    "    \n",
    "    #print(_json)\n",
    "    for item in _json['d']['results']:     \n",
    "      \n",
    "      subsite = item['ServerRelativeUrl'].replace(' ', '%20')\n",
    "#       new_url = f\"{base_url}{subsite}/_api/web/lists/getbytitle('{_list}')/items\"\n",
    "#       r = requests.get(new_url, headers=self.headers)\n",
    "      \n",
    "      subsite_info = self.get_info_new(_list, subsite=subsite, ProjUID=ProjUID, Title=item['Title'])\n",
    "      res_dict.append(subsite_info)\n",
    "    return [item for res in res_dict for item in res]\n",
    "  \n",
    "  def get_info_new(self, _list, *args, subsite='', ProjUID=False, Title=''):\n",
    "  \n",
    "    # Inicialização de variáveis\n",
    "    fields, desired_field = args if len(list(args)) == 2 else ([],[])\n",
    "    res_dict = []\n",
    "    subsite = f'/sites/{self.page}' if subsite == '' else subsite\n",
    "    #print(subsite) #debug\n",
    "    url = f\"https://{self.tenant}.sharepoint.com{subsite}/_api/web/lists/getbytitle('{_list}')/items\"\n",
    "    #print(url) #debug\n",
    "    #time.sleep(1)\n",
    "    r = requests.get(url, headers=self.headers)\n",
    "    \n",
    "\n",
    "    #print(r.text) #debug\n",
    "    # Se a página possuir algum item na lista desejada\n",
    "    if r.ok:\n",
    "      #print(r)\n",
    "      \n",
    "      # Armazenando o resultado da requisição e verificando se há outras páginas na lista\n",
    "      _j = json.loads(r.text)['d']\n",
    "      next = '' if '__next' not in _j.keys() else _j['__next']\n",
    "      pg_atual = _j['results']\n",
    "      \n",
    "      if ProjUID:\n",
    "        project_url = f\"https://{self.tenant}.sharepoint.com{subsite}/_api/Web/AllProperties\"\n",
    "        r = requests.get(project_url, headers = self.headers)\n",
    "        proj_detail = json.loads(r.text)\n",
    "        projeto_id = '' if 'MSPWAPROJUID' not in proj_detail['d'].keys() else proj_detail['d']['MSPWAPROJUID']\n",
    "\n",
    "      # Enquanto houverem páginas seguintes\n",
    "      while True:\n",
    "        for item in pg_atual:\n",
    "\n",
    "          list_fields = {}\n",
    "          i = 0\n",
    "\n",
    "          # Selecionando campos \"brutos\" (Antes do field as text)\n",
    "          for i in range(len(fields)):\n",
    "            list_fields[desired_field[i]] = item[fields[i]]\n",
    "            i+=1\n",
    "          \n",
    "          #parte nova\n",
    "#           print(item)\n",
    "#           res_dict.append(item)\n",
    "      \n",
    "          new_url = item['FieldValuesAsText']['__deferred']['uri']\n",
    "#           print(new_url)\n",
    "\n",
    "\n",
    "          try:\n",
    "            r = requests.get(new_url, headers=self.headers)\n",
    "\n",
    "            # If the response was successful, no Exception will be raised\n",
    "            r.raise_for_status()\n",
    "          \n",
    "          ### TRATAMENTO DE ERRO\n",
    "          #except HTTPError as http_err:\n",
    "          #  return \"Erro durante a requisição da API do sharepoint: {}\".format(http_err)\n",
    "          \n",
    "          except Exception as err:\n",
    "            return \"Erro durante a requisição da API do sharepoint: {}\".format(err)\n",
    "          ### TRATAMENTO DE ERRO\n",
    "          \n",
    "          # NÃO DEU ERRO, CONTINUA\n",
    "          jsn_text = json.loads(r.text)['d']\n",
    "            \n",
    "          if ProjUID:\n",
    "            jsn_text['ID_Projeto'] = projeto_id\n",
    "            jsn_text['Projeto'] = Title\n",
    "\n",
    "          # Adicionando os campos \"brutos\" selecionados\n",
    "          for desired in desired_field:\n",
    "            jsn_text[desired] = list_fields[desired]\n",
    "\n",
    "          # adicionando item ao dicionário\n",
    "          res_dict.append(jsn_text)\n",
    "\n",
    "        # Verifica se há uma página seguinte\n",
    "        if next == '':\n",
    "          break\n",
    "          \n",
    "#         return res_dict\n",
    "\n",
    "        # Preparando variáveis para a proxima iteração\n",
    "        #print(next)\n",
    "        url = next\n",
    "        r = requests.get(url, headers=self.headers)\n",
    "        _j = json.loads(r.text)['d']\n",
    "        pg_atual = _j['results']\n",
    "        next = '' if '__next' not in _j.keys() else _j['__next']\n",
    "\n",
    "    return res_dict\n",
    "  \n",
    "  def get_info_new_byid(self, _listid, *args, subsite='', ProjUID=False, projeto_id=''):  \n",
    "    # Inicialização de variáveis\n",
    "    fields, desired_field = args if len(list(args)) == 2 else ([],[])\n",
    "    res_dict = []\n",
    "    subsite = f'/sites/{self.page}' if subsite == '' else subsite\n",
    "    print(subsite) #debug\n",
    "    url = f\"https://{self.tenant}.sharepoint.com{subsite}/_api/web/lists(guid'{_listid}')/items\"\n",
    "    print(url) #debug\n",
    "    r = requests.get(url, headers=self.headers)\n",
    "\n",
    "    print(r.text) #debug\n",
    "    print (r)\n",
    "    # Se a página possuir algum item na lista desejada\n",
    "    if r.ok:\n",
    "      # Armazenando o resultado da requisição e verificando se há outras páginas na lista\n",
    "      _j = json.loads(r.text)['d']\n",
    "      next = '' if '__next' not in _j.keys() else _j['__next']\n",
    "      pg_atual = _j['results']\n",
    "      \n",
    "      if ProjUID:\n",
    "        project_url = f\"https://{self.tenant}.sharepoint.com{subsite}/_api/Web/AllProperties\"\n",
    "        r = requests.get(project_url, headers = self.headers)\n",
    "        proj_detail = json.loads(r.text)\n",
    "        projeto_id = '' if 'MSPWAPROJUID' not in proj_detail['d'].keys() else proj_detail['d']['MSPWAPROJUID']\n",
    "\n",
    "      # Enquanto houverem páginas seguintes\n",
    "      while True:\n",
    "        for item in pg_atual:\n",
    "\n",
    "          list_fields = {}\n",
    "          i = 0\n",
    "\n",
    "          # Selecionando campos \"brutos\" (Antes do field as text)\n",
    "          for i in range(len(fields)):\n",
    "            list_fields[desired_field[i]] = item[fields[i]]\n",
    "            i+=1\n",
    "          \n",
    "          #parte nova\n",
    "#           print(item)\n",
    "#           res_dict.append(item)\n",
    "      \n",
    "          new_url = item['FieldValuesAsText']['__deferred']['uri']\n",
    "#           print(new_url)\n",
    "  \n",
    "  \n",
    "          try:\n",
    "            r = requests.get(new_url, headers=self.headers)\n",
    "\n",
    "            # If the response was successful, no Exception will be raised\n",
    "            r.raise_for_status()\n",
    "               \n",
    "          ### TRATAMENTO DE ERRO     \n",
    "          except Exception as err:\n",
    "            return \"Erro durante a requisição da API do sharepoint: {}\".format(err)\n",
    "          ### TRATAMENTO DE ERRO\n",
    "          \n",
    "          # NÃO DEU ERRO, CONTINUA\n",
    "          jsn_text = json.loads(r.text)['d']\n",
    "          \n",
    "          if ProjUID:\n",
    "            jsn_text['ID_Projeto'] = projeto_id\n",
    "            jsn_text['Projeto'] = Title\n",
    "\n",
    "          # Adicionando os campos \"brutos\" selecionados\n",
    "          for desired in desired_field:\n",
    "            jsn_text[desired] = list_fields[desired]\n",
    "\n",
    "          # adicionando item ao dicionário\n",
    "          res_dict.append(jsn_text)\n",
    "\n",
    "        # Verifica se há uma página seguinte\n",
    "        if next == '':\n",
    "          break\n",
    "          \n",
    "#         return res_dict\n",
    "\n",
    "        # Preparando variáveis para a proxima iteração\n",
    "        #print(next) #DEBUG\n",
    "        url = next\n",
    "        r = requests.get(url, headers=self.headers)\n",
    "        _j = json.loads(r.text)['d']\n",
    "        pg_atual = _j['results']\n",
    "        next = '' if '__next' not in _j.keys() else _j['__next']\n",
    "\n",
    "    return res_dict\n",
    "  \n",
    "  def create_df(self, data, rows, schema):\n",
    "    lista = []\n",
    "    for i in data:\n",
    "      for r in rows:\n",
    "        if r not in i.keys():\n",
    "          i[r] = ''\n",
    "      filtered_data = { key: i[key] for key in rows }\n",
    "      lista.append(tuple(filtered_data.values()))\n",
    "    return spark.createDataFrame(lista, schema)\n",
    "  \n",
    " "
   ]
  },
  {
   "cell_type": "code",
   "execution_count": 0,
   "metadata": {
    "application/vnd.databricks.v1+cell": {
     "cellMetadata": {
      "byteLimit": 2048000,
      "rowLimit": 10000
     },
     "inputWidgets": {},
     "nuid": "6467c3c5-d305-45a4-aaa6-0bd33a0b45c4",
     "showTitle": false,
     "title": ""
    }
   },
   "outputs": [],
   "source": [
    "def mes_num(mes):\n",
    "  if mes == '':\n",
    "    return 0\n",
    "  meses = {'Jan':1,'Fev':2,'Mar':3,'Abr':4,'Mai':5,'Jun':6,'Jul':7,'Ago':8,'Set':9,'Out':10,'Nov':11,'Dez':12}\n",
    "  return meses[mes]\n",
    "  \n",
    "\n",
    "udf_myFunction = udf(mes_num, IntegerType())"
   ]
  },
  {
   "cell_type": "code",
   "execution_count": 0,
   "metadata": {
    "application/vnd.databricks.v1+cell": {
     "cellMetadata": {
      "byteLimit": 2048000,
      "rowLimit": 10000
     },
     "inputWidgets": {},
     "nuid": "0caee09b-3c5c-4db5-ae7c-bc9bbb4ba7c0",
     "showTitle": false,
     "title": ""
    }
   },
   "outputs": [],
   "source": [
    "def mes_ano(mes, ano):\n",
    "  data = None\n",
    "  if not(mes == '' or ano == ''):\n",
    "    if mes == 'Janeiro':\n",
    "      mes = '01'\n",
    "    elif mes == 'Fevereiro':\n",
    "      mes = '02'\n",
    "    elif mes == 'Março':\n",
    "      mes = '03'\n",
    "    elif mes == 'Abril':\n",
    "      mes = '04'\n",
    "    elif mes == 'Maio':\n",
    "      mes = '05'\n",
    "    elif mes == 'Junho':\n",
    "      mes = '06'\n",
    "    elif mes == 'Julho':\n",
    "      mes = '07'\n",
    "    elif mes == 'Agosto':\n",
    "      mes = '08'\n",
    "    elif mes == 'Setembro':\n",
    "      mes = '09'\n",
    "    elif mes == 'Outubro':\n",
    "      mes = '10'\n",
    "    elif mes == 'Novembro':\n",
    "      mes = '11'\n",
    "    else:\n",
    "      mes = '12'\n",
    "      \n",
    "    data = \"{}/{}\".format(mes, ano)\n",
    "  \n",
    "  return data\n",
    "\n",
    "\n",
    "func_mes_ano = udf(mes_ano, StringType())"
   ]
  },
  {
   "cell_type": "code",
   "execution_count": 0,
   "metadata": {
    "application/vnd.databricks.v1+cell": {
     "cellMetadata": {
      "byteLimit": 2048000,
      "rowLimit": 10000
     },
     "inputWidgets": {},
     "nuid": "ee1ff36c-8129-4180-b1de-e067464887ba",
     "showTitle": false,
     "title": ""
    }
   },
   "outputs": [],
   "source": [
    "def get_proj_ids(target_df, project_df):\n",
    "  return target_df.join(project_df,col('Projeto') == col('NomedoProjeto'), how=\"left\").select([col(xx) for xx in target_df.columns] + [col('IddeProjeto')])"
   ]
  },
  {
   "cell_type": "code",
   "execution_count": 0,
   "metadata": {
    "application/vnd.databricks.v1+cell": {
     "cellMetadata": {
      "byteLimit": 2048000,
      "rowLimit": 10000
     },
     "inputWidgets": {},
     "nuid": "134d71e4-bbd0-4506-b19a-a48959cdfc61",
     "showTitle": false,
     "title": ""
    }
   },
   "outputs": [],
   "source": [
    "def cast_double(df, columns):\n",
    "  \n",
    "  for column in columns:\n",
    "    df = df.withColumn(column, round(df[column].cast(DoubleType()), 2))\n",
    "  \n",
    "  return df"
   ]
  },
  {
   "cell_type": "code",
   "execution_count": 0,
   "metadata": {
    "application/vnd.databricks.v1+cell": {
     "cellMetadata": {
      "byteLimit": 2048000,
      "rowLimit": 10000
     },
     "inputWidgets": {},
     "nuid": "2c25cdbf-3d69-44f5-94aa-3844dc9be944",
     "showTitle": false,
     "title": ""
    }
   },
   "outputs": [],
   "source": [
    "def cast_float(df, columns):\n",
    "  \n",
    "  for column in columns:\n",
    "    df = df.withColumn(column, round(df[column].cast(FloatType()), 2))\n",
    "  \n",
    "  return df"
   ]
  },
  {
   "cell_type": "code",
   "execution_count": 0,
   "metadata": {
    "application/vnd.databricks.v1+cell": {
     "cellMetadata": {
      "byteLimit": 2048000,
      "rowLimit": 10000
     },
     "inputWidgets": {},
     "nuid": "22e757ae-628d-4542-9fa6-61f1dca6700b",
     "showTitle": false,
     "title": ""
    }
   },
   "outputs": [],
   "source": [
    "def rename_columns(df, nome_antigo, nome_novo):\n",
    "  \n",
    "  for i in range(len(nome_antigo)):\n",
    "    df = df.withColumnRenamed(nome_antigo[i], nome_novo[i])\n",
    "  \n",
    "  return df"
   ]
  },
  {
   "cell_type": "code",
   "execution_count": 0,
   "metadata": {
    "application/vnd.databricks.v1+cell": {
     "cellMetadata": {
      "byteLimit": 2048000,
      "rowLimit": 10000
     },
     "inputWidgets": {},
     "nuid": "0d53d389-0220-4125-aa1f-5fd711009e45",
     "showTitle": false,
     "title": ""
    }
   },
   "outputs": [],
   "source": [
    "def remove_character(df, coluna, char, char2=''):\n",
    "  \n",
    "  # Caso queira retirar caracteres de uma lista de colunas\n",
    "  if isinstance(coluna, list):\n",
    "    for c in coluna:\n",
    "      df = df.withColumn(c, regexp_replace(df[c], char, char2))\n",
    "    return df\n",
    "\n",
    "  # Caso seja apenas uma coluna\n",
    "  return df.withColumn(coluna, regexp_replace(df[coluna], char, char2))"
   ]
  },
  {
   "cell_type": "code",
   "execution_count": 0,
   "metadata": {
    "application/vnd.databricks.v1+cell": {
     "cellMetadata": {
      "byteLimit": 2048000,
      "rowLimit": 10000
     },
     "inputWidgets": {},
     "nuid": "98bc31f6-0867-4f39-b5e8-1a2d9d048ce7",
     "showTitle": false,
     "title": ""
    }
   },
   "outputs": [],
   "source": [
    "def cast_to_date(df, columns, date_format):\n",
    "  if isinstance(columns, list):\n",
    "    for c in columns:\n",
    "      df = df.withColumn(c, to_timestamp(df[c], date_format))\n",
    "    return df\n",
    "\n",
    "  return df.withColumn(columns, to_timestamp(df[columns], date_format))\n",
    "    "
   ]
  },
  {
   "cell_type": "code",
   "execution_count": 0,
   "metadata": {
    "application/vnd.databricks.v1+cell": {
     "cellMetadata": {
      "byteLimit": 2048000,
      "rowLimit": 10000
     },
     "inputWidgets": {},
     "nuid": "113e1a6e-b459-44ea-8c9c-c1c2b565dc72",
     "showTitle": false,
     "title": ""
    }
   },
   "outputs": [],
   "source": [
    "def cast_to_date_unix(df, cols, form):\n",
    "  for c in cols:\n",
    "    try:\n",
    "      df = df.withColumn(c, unix_timestamp(c, form).cast('timestamp'))\n",
    "    except NameError:\n",
    "      print(f'Cannot cast column {c} to format {form}')\n",
    "      return\n",
    "  return df"
   ]
  }
 ],
 "metadata": {
  "application/vnd.databricks.v1+notebook": {
   "dashboards": [],
   "environmentMetadata": null,
   "language": "python",
   "notebookMetadata": {
    "pythonIndentUnit": 2
   },
   "notebookName": "sharepointAPI",
   "widgets": {}
  },
  "language_info": {
   "name": "python"
  }
 },
 "nbformat": 4,
 "nbformat_minor": 0
}
